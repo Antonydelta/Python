{
  "nbformat": 4,
  "nbformat_minor": 0,
  "metadata": {
    "colab": {
      "name": "Untitled0.ipynb",
      "provenance": [],
      "collapsed_sections": [],
      "authorship_tag": "ABX9TyNOUVDgMlSTX6eWyJ4GWKfr",
      "include_colab_link": true
    },
    "kernelspec": {
      "name": "python3",
      "display_name": "Python 3"
    },
    "language_info": {
      "name": "python"
    }
  },
  "cells": [
    {
      "cell_type": "markdown",
      "metadata": {
        "id": "view-in-github",
        "colab_type": "text"
      },
      "source": [
        "<a href=\"https://colab.research.google.com/github/Antonydelta/Python/blob/main/Untitled0.ipynb\" target=\"_parent\"><img src=\"https://colab.research.google.com/assets/colab-badge.svg\" alt=\"Open In Colab\"/></a>"
      ]
    },
    {
      "cell_type": "code",
      "execution_count": 1,
      "metadata": {
        "colab": {
          "base_uri": "https://localhost:8080/"
        },
        "id": "q4-BukUsC6yx",
        "outputId": "15e47909-6e71-4dec-bedc-8f2a3ae73907"
      },
      "outputs": [
        {
          "output_type": "stream",
          "name": "stdout",
          "text": [
            "program 1\n",
            "the sum of 1.5 and 6.3 is 7.8\n"
          ]
        }
      ],
      "source": [
        "print ('program 1')\n",
        "num1=1.5\n",
        "num2=6.3\n",
        "sum=num1+num2\n",
        "print('the sum of {0} and {1} is {2}'.format(num1,num2,sum))"
      ]
    },
    {
      "cell_type": "code",
      "source": [
        "print ('program 2')\n",
        "num1 =input('enter first number:')\n",
        "num2 =input('enter second number:')\n",
        "sum= float(num1) + float(num2)\n",
        "print('the sum of {0} and {1} is {2}'.format(num1,num2,sum))"
      ],
      "metadata": {
        "colab": {
          "base_uri": "https://localhost:8080/"
        },
        "id": "mZNAgbRLDi-8",
        "outputId": "91326e88-8d7a-48ef-f641-baeb9f543d26"
      },
      "execution_count": 3,
      "outputs": [
        {
          "output_type": "stream",
          "name": "stdout",
          "text": [
            "program 2\n",
            "enter first number:2\n",
            "enter second number:7\n",
            "the sum of 2 and 7 is 9.0\n"
          ]
        }
      ]
    },
    {
      "cell_type": "code",
      "source": [
        "print ('program 3')\n",
        "num=8\n",
        "num_sqrt = num ** 0.5\n",
        "print('the square root of %0.3f is %0.3f'%(num,num_sqrt))"
      ],
      "metadata": {
        "colab": {
          "base_uri": "https://localhost:8080/"
        },
        "id": "ed5OGHw9Dr-F",
        "outputId": "6a9536b0-7298-4b5e-b6bc-ed4c5bebebce"
      },
      "execution_count": null,
      "outputs": [
        {
          "output_type": "stream",
          "name": "stdout",
          "text": [
            "program 3\n",
            "the square root of 8.000 is 2.828\n"
          ]
        }
      ]
    },
    {
      "cell_type": "code",
      "source": [
        "print ('program 4') \n",
        "import cmath\n",
        "num =1+2j\n",
        "num_sqrt +cmath.sqrt(num)\n",
        "print('the square root of {0} is {1:0.3f}+{2:0.3f}j'.format(num,num_sqrt.real,num_sqrt.imag))"
      ],
      "metadata": {
        "colab": {
          "base_uri": "https://localhost:8080/"
        },
        "id": "mFZ0vmyjDyfs",
        "outputId": "2c294f32-9afa-44d8-d2a6-595f80fdd198"
      },
      "execution_count": null,
      "outputs": [
        {
          "output_type": "stream",
          "name": "stdout",
          "text": [
            "program 4\n",
            "the square root of (1+2j) is 2.828+0.000j\n"
          ]
        }
      ]
    },
    {
      "cell_type": "code",
      "source": [
        "print ('program 5')\n",
        "a=5\n",
        "b=6\n",
        "c=7\n",
        "s=(a+b+c)/2\n",
        "area = (s*(s-a)*(s-b)*(s-c))**0.5"
      ],
      "metadata": {
        "colab": {
          "base_uri": "https://localhost:8080/"
        },
        "id": "RwPfLt2ID5uw",
        "outputId": "35767333-526d-4d20-8a70-ba7588cf78b9"
      },
      "execution_count": null,
      "outputs": [
        {
          "output_type": "stream",
          "name": "stdout",
          "text": [
            "program 5\n"
          ]
        }
      ]
    },
    {
      "cell_type": "code",
      "source": [
        "print ('program 6')\n",
        "x=5\n",
        "y=10\n",
        "temp=x\n",
        "x=y\n",
        "y=temp\n",
        "print('the value of x after swapping: {}'.format(x))\n",
        "print('the value of y after swapping: {}'.format(y))"
      ],
      "metadata": {
        "colab": {
          "base_uri": "https://localhost:8080/"
        },
        "id": "0_ayJAFVDZCe",
        "outputId": "2b20b779-69c5-4939-bab5-14b9f5c7c465"
      },
      "execution_count": null,
      "outputs": [
        {
          "output_type": "stream",
          "name": "stdout",
          "text": [
            "program 6\n",
            "the value of x after swapping: 10\n",
            "the value of y after swapping: 5\n"
          ]
        }
      ]
    },
    {
      "cell_type": "code",
      "source": [
        "print ('program 7')\n",
        "number=10\n",
        "number=1.1\n",
        "website=\"apple.com\"\n",
        "print(website)"
      ],
      "metadata": {
        "colab": {
          "base_uri": "https://localhost:8080/"
        },
        "id": "W8q3csnCEIic",
        "outputId": "3a613cc8-6e05-46a1-a4a7-8ed8d53a57d4"
      },
      "execution_count": null,
      "outputs": [
        {
          "output_type": "stream",
          "name": "stdout",
          "text": [
            "program 7\n",
            "apple.com\n"
          ]
        }
      ]
    },
    {
      "cell_type": "code",
      "source": [
        ""
      ],
      "metadata": {
        "id": "cYyy1ilVEW_K"
      },
      "execution_count": null,
      "outputs": []
    },
    {
      "cell_type": "code",
      "source": [
        "print ('program 8')\n",
        "website=\"apple.com\"\n",
        "print(website)\n",
        "website=\"programiz.com\"\n",
        "print(website)"
      ],
      "metadata": {
        "colab": {
          "base_uri": "https://localhost:8080/"
        },
        "id": "bbuBU-odEPZP",
        "outputId": "70067b01-1174-4b41-9a14-278b854c2f8d"
      },
      "execution_count": null,
      "outputs": [
        {
          "output_type": "stream",
          "name": "stdout",
          "text": [
            "program 8\n",
            "apple.com\n",
            "programiz.com\n"
          ]
        }
      ]
    },
    {
      "cell_type": "code",
      "source": [
        "print ('program 9')\n",
        "a=0b1010\n",
        "b=100\n",
        "c=0o310\n",
        "d=0x12c\n",
        "float_1=10.5\n",
        "float_2=1.5e2\n",
        "x=3.14j\n",
        "print(a,b,c,d)\n",
        "print(float_1,float_2)\n",
        "print(x,x.imag,x.real)"
      ],
      "metadata": {
        "colab": {
          "base_uri": "https://localhost:8080/"
        },
        "id": "opq9x7EfEYXK",
        "outputId": "91c3078b-42ed-4759-ece2-9e922e1ee535"
      },
      "execution_count": null,
      "outputs": [
        {
          "output_type": "stream",
          "name": "stdout",
          "text": [
            "program 9\n",
            "10 100 200 300\n",
            "10.5 150.0\n",
            "3.14j 3.14 0.0\n"
          ]
        }
      ]
    },
    {
      "cell_type": "code",
      "source": [
        "print ('program 10')\n",
        "strings=\"this is python\"\n",
        "char=\"c\"\n",
        "multiline_str=\"\"\"this is a multiline string with more than one line code.\"\"\"\n",
        "unicode=u\"\\u00dcnic\\u00f6de\"\n",
        "raw_str=r\"raw \\n string\"\n",
        "print(strings)\n",
        "print(char)\n",
        "print(multiline_str)\n",
        "print(unicode)\n",
        "print(raw_str)"
      ],
      "metadata": {
        "colab": {
          "base_uri": "https://localhost:8080/"
        },
        "id": "lNz440N5EgT-",
        "outputId": "f2b26867-e555-43a7-9ce1-feecb528f870"
      },
      "execution_count": null,
      "outputs": [
        {
          "output_type": "stream",
          "name": "stdout",
          "text": [
            "program 10\n",
            "this is python\n",
            "c\n",
            "this is a multiline string with more than one line code.\n",
            "Ünicöde\n",
            "raw \\n string\n"
          ]
        }
      ]
    },
    {
      "cell_type": "code",
      "source": [
        "print ('program 11')\n",
        "x=(1==True)\n",
        "y=(1==False)\n",
        "a= True + 4\n",
        "b= False + 10\n",
        "print(\"x is \",x)\n",
        "print(\"y is\",y)\n",
        "print(\"a:\",a)\n",
        "print(\"b:\",b)"
      ],
      "metadata": {
        "colab": {
          "base_uri": "https://localhost:8080/"
        },
        "id": "IQfU32bFEnUc",
        "outputId": "44e37c0f-fcfe-4aa0-8d5a-37b2cef6e3c1"
      },
      "execution_count": null,
      "outputs": [
        {
          "output_type": "stream",
          "name": "stdout",
          "text": [
            "program 11\n",
            "x is  True\n",
            "y is False\n",
            "a: 5\n",
            "b: 10\n"
          ]
        }
      ]
    },
    {
      "cell_type": "code",
      "source": [
        "print ('program 12')\n",
        "fruits = [\"apple\",\"mango\",\"orange\"]\n",
        "numbers = (1,2,3)\n",
        "alphabets = {'a':'apple','b':'ball','c':'cat'}\n",
        "vowels = {'a','e','i','o','u'}\n",
        "print(fruits)\n",
        "print(numbers)\n",
        "print(alphabets)\n",
        "print(vowels)"
      ],
      "metadata": {
        "colab": {
          "base_uri": "https://localhost:8080/"
        },
        "id": "HAWb-5FuFWbt",
        "outputId": "8a2edf8e-cecb-4985-861a-74139dde29dd"
      },
      "execution_count": null,
      "outputs": [
        {
          "output_type": "stream",
          "name": "stdout",
          "text": [
            "program 12\n",
            "['apple', 'mango', 'orange']\n",
            "(1, 2, 3)\n",
            "{'a': 'apple', 'b': 'ball', 'c': 'cat'}\n",
            "{'u', 'a', 'i', 'o', 'e'}\n"
          ]
        }
      ]
    },
    {
      "cell_type": "code",
      "source": [
        "print ('program 13')\n",
        "def max_of_two( x, y):\n",
        "  if x > y:\n",
        "    return x\n",
        "  return y\n",
        "def max_of_three(x,y,z):\n",
        " return max_of_two(x,max_of_two(y,z))\n",
        "print(max_of_three(3,6,-5))"
      ],
      "metadata": {
        "colab": {
          "base_uri": "https://localhost:8080/"
        },
        "id": "Duv86yFjFeZb",
        "outputId": "4cecc78c-6b9e-4d72-9224-2983e0420974"
      },
      "execution_count": null,
      "outputs": [
        {
          "output_type": "stream",
          "name": "stdout",
          "text": [
            "program 13\n",
            "6\n"
          ]
        }
      ]
    },
    {
      "cell_type": "code",
      "source": [
        "print ('program 14')\n",
        "def string_reverse(str1):\n",
        "\n",
        "    rstr1 = ''\n",
        "    index = len(str1)\n",
        "    while index > 0:\n",
        "        rstr1 += str1[ index - 1 ]\n",
        "        index = index - 1\n",
        "    return rstr1\n",
        "print(string_reverse('1234abcd'))"
      ],
      "metadata": {
        "colab": {
          "base_uri": "https://localhost:8080/"
        },
        "id": "oprnn7w-FnD3",
        "outputId": "30fe967f-31d0-4cb3-e340-51329ce0b5ac"
      },
      "execution_count": null,
      "outputs": [
        {
          "output_type": "stream",
          "name": "stdout",
          "text": [
            "program 14\n",
            "dcba4321\n"
          ]
        }
      ]
    },
    {
      "cell_type": "code",
      "source": [
        "print ('program 15')\n",
        "def factorial(n):\n",
        "    if n == 0:\n",
        "        return 1\n",
        "    else:\n",
        "        return n * factorial(n-1)\n",
        "n=int(input(\"Input a number to compute the factiorial : \"))\n",
        "print(factorial(n))"
      ],
      "metadata": {
        "colab": {
          "base_uri": "https://localhost:8080/"
        },
        "id": "XnO_KXkSF2jm",
        "outputId": "1b8643ca-9059-46e4-bd6b-3a7fcf275c83"
      },
      "execution_count": 2,
      "outputs": [
        {
          "output_type": "stream",
          "name": "stdout",
          "text": [
            "program 15\n",
            "Input a number to compute the factiorial : 3\n",
            "6\n"
          ]
        }
      ]
    }
  ]
}